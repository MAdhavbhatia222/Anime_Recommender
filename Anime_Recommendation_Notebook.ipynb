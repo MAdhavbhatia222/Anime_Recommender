{
 "cells": [
  {
   "cell_type": "markdown",
   "id": "d69e7de5-34c9-4b9a-9ce1-aacca28a1098",
   "metadata": {},
   "source": [
    "Data from https://www.kaggle.com/datasets/CooperUnion/anime-recommendations-database/data"
   ]
  },
  {
   "cell_type": "code",
   "execution_count": 1,
   "id": "0392630c-861e-4c95-a9c2-ec023dda0935",
   "metadata": {},
   "outputs": [],
   "source": [
    "# !pip install oracledb"
   ]
  },
  {
   "cell_type": "code",
   "execution_count": 2,
   "id": "786cdb80-e01b-46cd-816d-395850e9c144",
   "metadata": {},
   "outputs": [],
   "source": [
    "import oracledb\n",
    "import pandas as pd"
   ]
  },
  {
   "cell_type": "code",
   "execution_count": 3,
   "id": "e8698ca3-3251-4e3b-8d7e-ffbc7c93612d",
   "metadata": {
    "scrolled": true
   },
   "outputs": [],
   "source": [
    "def connect_oracle():\n",
    "    password = 'password'\n",
    "    connection=oracledb.connect(\n",
    "         config_dir=\"/opt/oracle/instantclient_21_12/network/admin\",\n",
    "         user=\"user\",\n",
    "         password=password,\n",
    "         dsn=\"name_high\",\n",
    "         wallet_location=\"/opt/oracle/instantclient_21_12/network/admin\",\n",
    "         wallet_password=password)\n",
    "    return connection"
   ]
  },
  {
   "cell_type": "code",
   "execution_count": 4,
   "id": "aee00e20-5db7-4fd7-a294-74c5643926ac",
   "metadata": {
    "scrolled": true
   },
   "outputs": [],
   "source": [
    "def Run_Query_Function(query):\n",
    "    # Create a cursor object\n",
    "    connection = connect_oracle()\n",
    "    cursor = connection.cursor()\n",
    "    \n",
    "    # Execute a query\n",
    "    cursor.execute(query)\n",
    "    \n",
    "    # Fetch the results\n",
    "    results = cursor.fetchall()\n",
    "    \n",
    "    # Get the column names\n",
    "    column_names = [i[0] for i in cursor.description]\n",
    "    \n",
    "    # Create a DataFrame from the results\n",
    "    dataframe = pd.DataFrame(results, columns=column_names)\n",
    "    \n",
    "    # Close the cursor and connection\n",
    "    cursor.close()\n",
    "    connection.close()\n",
    "\n",
    "    return dataframe\n"
   ]
  },
  {
   "cell_type": "code",
   "execution_count": 5,
   "id": "1d9e62ca-ae26-4676-9eeb-0da6c767b999",
   "metadata": {},
   "outputs": [
    {
     "data": {
      "text/html": [
       "<div>\n",
       "<style scoped>\n",
       "    .dataframe tbody tr th:only-of-type {\n",
       "        vertical-align: middle;\n",
       "    }\n",
       "\n",
       "    .dataframe tbody tr th {\n",
       "        vertical-align: top;\n",
       "    }\n",
       "\n",
       "    .dataframe thead th {\n",
       "        text-align: right;\n",
       "    }\n",
       "</style>\n",
       "<table border=\"1\" class=\"dataframe\">\n",
       "  <thead>\n",
       "    <tr style=\"text-align: right;\">\n",
       "      <th></th>\n",
       "      <th>COUNT(DISTINCTA.NAME)</th>\n",
       "    </tr>\n",
       "  </thead>\n",
       "  <tbody>\n",
       "    <tr>\n",
       "      <th>0</th>\n",
       "      <td>12292</td>\n",
       "    </tr>\n",
       "  </tbody>\n",
       "</table>\n",
       "</div>"
      ],
      "text/plain": [
       "   COUNT(DISTINCTA.NAME)\n",
       "0                  12292"
      ]
     },
     "execution_count": 5,
     "metadata": {},
     "output_type": "execute_result"
    }
   ],
   "source": [
    "Run_Query_Function('''\n",
    "    SELECT COUNT(DISTINCT A.NAME)\n",
    "    FROM ANIME A\n",
    "    ''')"
   ]
  },
  {
   "cell_type": "code",
   "execution_count": 6,
   "id": "241d9b6d-7365-455a-bc5a-c7c8077ab228",
   "metadata": {
    "scrolled": true
   },
   "outputs": [
    {
     "data": {
      "text/html": [
       "<div>\n",
       "<style scoped>\n",
       "    .dataframe tbody tr th:only-of-type {\n",
       "        vertical-align: middle;\n",
       "    }\n",
       "\n",
       "    .dataframe tbody tr th {\n",
       "        vertical-align: top;\n",
       "    }\n",
       "\n",
       "    .dataframe thead th {\n",
       "        text-align: right;\n",
       "    }\n",
       "</style>\n",
       "<table border=\"1\" class=\"dataframe\">\n",
       "  <thead>\n",
       "    <tr style=\"text-align: right;\">\n",
       "      <th></th>\n",
       "      <th>COUNT(A.ANIME_ID)</th>\n",
       "    </tr>\n",
       "  </thead>\n",
       "  <tbody>\n",
       "    <tr>\n",
       "      <th>0</th>\n",
       "      <td>230</td>\n",
       "    </tr>\n",
       "  </tbody>\n",
       "</table>\n",
       "</div>"
      ],
      "text/plain": [
       "   COUNT(A.ANIME_ID)\n",
       "0                230"
      ]
     },
     "execution_count": 6,
     "metadata": {},
     "output_type": "execute_result"
    }
   ],
   "source": [
    "Run_Query_Function('''\n",
    "    SELECT COUNT(A.ANIME_ID)\n",
    "    FROM ANIME A\n",
    "    WHERE A.RATING IS NULL\n",
    "    ''')"
   ]
  },
  {
   "cell_type": "code",
   "execution_count": 7,
   "id": "2e0e7f0b-28d3-4e18-8e58-213b9ad46cf1",
   "metadata": {
    "scrolled": true
   },
   "outputs": [
    {
     "data": {
      "text/html": [
       "<div>\n",
       "<style scoped>\n",
       "    .dataframe tbody tr th:only-of-type {\n",
       "        vertical-align: middle;\n",
       "    }\n",
       "\n",
       "    .dataframe tbody tr th {\n",
       "        vertical-align: top;\n",
       "    }\n",
       "\n",
       "    .dataframe thead th {\n",
       "        text-align: right;\n",
       "    }\n",
       "</style>\n",
       "<table border=\"1\" class=\"dataframe\">\n",
       "  <thead>\n",
       "    <tr style=\"text-align: right;\">\n",
       "      <th></th>\n",
       "      <th>RATING_NUM</th>\n",
       "      <th>COUNT(A.ANIME_ID)</th>\n",
       "    </tr>\n",
       "  </thead>\n",
       "  <tbody>\n",
       "    <tr>\n",
       "      <th>0</th>\n",
       "      <td>2</td>\n",
       "      <td>6</td>\n",
       "    </tr>\n",
       "    <tr>\n",
       "      <th>1</th>\n",
       "      <td>3</td>\n",
       "      <td>79</td>\n",
       "    </tr>\n",
       "    <tr>\n",
       "      <th>2</th>\n",
       "      <td>4</td>\n",
       "      <td>445</td>\n",
       "    </tr>\n",
       "    <tr>\n",
       "      <th>3</th>\n",
       "      <td>5</td>\n",
       "      <td>1400</td>\n",
       "    </tr>\n",
       "    <tr>\n",
       "      <th>4</th>\n",
       "      <td>6</td>\n",
       "      <td>3712</td>\n",
       "    </tr>\n",
       "    <tr>\n",
       "      <th>5</th>\n",
       "      <td>7</td>\n",
       "      <td>4669</td>\n",
       "    </tr>\n",
       "    <tr>\n",
       "      <th>6</th>\n",
       "      <td>8</td>\n",
       "      <td>1616</td>\n",
       "    </tr>\n",
       "    <tr>\n",
       "      <th>7</th>\n",
       "      <td>9</td>\n",
       "      <td>134</td>\n",
       "    </tr>\n",
       "    <tr>\n",
       "      <th>8</th>\n",
       "      <td>10</td>\n",
       "      <td>3</td>\n",
       "    </tr>\n",
       "  </tbody>\n",
       "</table>\n",
       "</div>"
      ],
      "text/plain": [
       "   RATING_NUM  COUNT(A.ANIME_ID)\n",
       "0           2                  6\n",
       "1           3                 79\n",
       "2           4                445\n",
       "3           5               1400\n",
       "4           6               3712\n",
       "5           7               4669\n",
       "6           8               1616\n",
       "7           9                134\n",
       "8          10                  3"
      ]
     },
     "execution_count": 7,
     "metadata": {},
     "output_type": "execute_result"
    }
   ],
   "source": [
    "Run_Query_Function('''\n",
    "    SELECT cast(ROUND(A.RATING,0) as int) AS RATING_NUM,COUNT(A.ANIME_ID)\n",
    "    FROM ANIME A\n",
    "    WHERE A.RATING IS NOT NULL\n",
    "    GROUP BY cast(ROUND(A.RATING,0) as int)\n",
    "    ORDER BY cast(ROUND(A.RATING,0) as int)\n",
    "    ''')"
   ]
  },
  {
   "cell_type": "code",
   "execution_count": 8,
   "id": "73bad377-02e1-4dc0-8eff-cec2c7abe4fa",
   "metadata": {},
   "outputs": [
    {
     "data": {
      "text/html": [
       "<div>\n",
       "<style scoped>\n",
       "    .dataframe tbody tr th:only-of-type {\n",
       "        vertical-align: middle;\n",
       "    }\n",
       "\n",
       "    .dataframe tbody tr th {\n",
       "        vertical-align: top;\n",
       "    }\n",
       "\n",
       "    .dataframe thead th {\n",
       "        text-align: right;\n",
       "    }\n",
       "</style>\n",
       "<table border=\"1\" class=\"dataframe\">\n",
       "  <thead>\n",
       "    <tr style=\"text-align: right;\">\n",
       "      <th></th>\n",
       "      <th>TYPE</th>\n",
       "      <th>COUNT(A.ANIME_ID)</th>\n",
       "    </tr>\n",
       "  </thead>\n",
       "  <tbody>\n",
       "    <tr>\n",
       "      <th>0</th>\n",
       "      <td>Movie</td>\n",
       "      <td>2348</td>\n",
       "    </tr>\n",
       "    <tr>\n",
       "      <th>1</th>\n",
       "      <td>Music</td>\n",
       "      <td>488</td>\n",
       "    </tr>\n",
       "    <tr>\n",
       "      <th>2</th>\n",
       "      <td>ONA</td>\n",
       "      <td>659</td>\n",
       "    </tr>\n",
       "    <tr>\n",
       "      <th>3</th>\n",
       "      <td>OVA</td>\n",
       "      <td>3311</td>\n",
       "    </tr>\n",
       "    <tr>\n",
       "      <th>4</th>\n",
       "      <td>Special</td>\n",
       "      <td>1676</td>\n",
       "    </tr>\n",
       "    <tr>\n",
       "      <th>5</th>\n",
       "      <td>TV</td>\n",
       "      <td>3787</td>\n",
       "    </tr>\n",
       "    <tr>\n",
       "      <th>6</th>\n",
       "      <td>None</td>\n",
       "      <td>25</td>\n",
       "    </tr>\n",
       "  </tbody>\n",
       "</table>\n",
       "</div>"
      ],
      "text/plain": [
       "      TYPE  COUNT(A.ANIME_ID)\n",
       "0    Movie               2348\n",
       "1    Music                488\n",
       "2      ONA                659\n",
       "3      OVA               3311\n",
       "4  Special               1676\n",
       "5       TV               3787\n",
       "6     None                 25"
      ]
     },
     "execution_count": 8,
     "metadata": {},
     "output_type": "execute_result"
    }
   ],
   "source": [
    "Run_Query_Function('''\n",
    "    SELECT A.TYPE,COUNT(A.ANIME_ID)\n",
    "    FROM ANIME A\n",
    "    GROUP BY A.TYPE\n",
    "    ORDER BY A.TYPE\n",
    " ''')"
   ]
  },
  {
   "cell_type": "code",
   "execution_count": 9,
   "id": "53718a57-4534-421f-9a02-1eaf377e098f",
   "metadata": {
    "scrolled": true
   },
   "outputs": [
    {
     "data": {
      "text/html": [
       "<div>\n",
       "<style scoped>\n",
       "    .dataframe tbody tr th:only-of-type {\n",
       "        vertical-align: middle;\n",
       "    }\n",
       "\n",
       "    .dataframe tbody tr th {\n",
       "        vertical-align: top;\n",
       "    }\n",
       "\n",
       "    .dataframe thead th {\n",
       "        text-align: right;\n",
       "    }\n",
       "</style>\n",
       "<table border=\"1\" class=\"dataframe\">\n",
       "  <thead>\n",
       "    <tr style=\"text-align: right;\">\n",
       "      <th></th>\n",
       "      <th>COUNT(A.ANIME_ID)</th>\n",
       "    </tr>\n",
       "  </thead>\n",
       "  <tbody>\n",
       "    <tr>\n",
       "      <th>0</th>\n",
       "      <td>947</td>\n",
       "    </tr>\n",
       "  </tbody>\n",
       "</table>\n",
       "</div>"
      ],
      "text/plain": [
       "   COUNT(A.ANIME_ID)\n",
       "0                947"
      ]
     },
     "execution_count": 9,
     "metadata": {},
     "output_type": "execute_result"
    }
   ],
   "source": [
    "Run_Query_Function('''\n",
    "    SELECT COUNT(A.ANIME_ID)\n",
    "    FROM ANIME A\n",
    "    WHERE LOWER(A.GENRE) LIKE 'hentai%'\n",
    " ''')"
   ]
  },
  {
   "cell_type": "code",
   "execution_count": 27,
   "id": "d0fd1ac4-d5f8-44a5-9d54-2880d0f87c7f",
   "metadata": {
    "scrolled": true
   },
   "outputs": [],
   "source": [
    "Anime_Filtered = Run_Query_Function('''\n",
    "SELECT A.ANIME_ID AS ANIME_ANIME_ID, \n",
    "        A.NAME, \n",
    "        A.GENRE, \n",
    "        A.TYPE, \n",
    "        A.EPISODES, \n",
    "        A.RATING AS ANIME_RATING, \n",
    "        A.MEMBERS\n",
    "    FROM ANIME A\n",
    "    WHERE A.RATING IS NOT NULL\n",
    "    AND LOWER(A.GENRE) NOT LIKE 'hentai%'\n",
    "    AND LOWER(A.NAME) NOT LIKE 'hentai%'\n",
    "    ''')"
   ]
  },
  {
   "cell_type": "code",
   "execution_count": 28,
   "id": "c2f6a694-6f03-4f47-8021-d7294f2d7a54",
   "metadata": {},
   "outputs": [
    {
     "data": {
      "text/plain": [
       "Index(['ANIME_ANIME_ID', 'NAME', 'GENRE', 'TYPE', 'EPISODES', 'ANIME_RATING',\n",
       "       'MEMBERS'],\n",
       "      dtype='object')"
      ]
     },
     "execution_count": 28,
     "metadata": {},
     "output_type": "execute_result"
    }
   ],
   "source": [
    "Anime_Filtered.columns"
   ]
  },
  {
   "cell_type": "code",
   "execution_count": 29,
   "id": "7ce40864-1be6-452c-b8cf-ea90de0a4ecb",
   "metadata": {},
   "outputs": [
    {
     "name": "stdout",
     "output_type": "stream",
     "text": [
      "--------------------\n",
      "Number of Anime: 11075\n"
     ]
    }
   ],
   "source": [
    "n_anime = len(Anime_Filtered.ANIME_ANIME_ID.unique())\n",
    "print(\"--------------------\")\n",
    "print(\"Number of Anime:\",n_anime)"
   ]
  },
  {
   "cell_type": "code",
   "execution_count": 30,
   "id": "9f58416e-5861-41c4-b88c-c303eeb04014",
   "metadata": {},
   "outputs": [],
   "source": [
    "data = Anime_Filtered.copy()"
   ]
  },
  {
   "cell_type": "code",
   "execution_count": 31,
   "id": "9a4d1eb6-89dc-403b-8eaf-de0c6012ecaf",
   "metadata": {},
   "outputs": [],
   "source": [
    "from sklearn.feature_extraction.text import TfidfVectorizer\n",
    "from sklearn.metrics.pairwise import linear_kernel\n",
    "\n",
    "# Assuming 'data' is your DataFrame obtained from the SQL query\n",
    "# Create a TF-IDF Vectorizer\n",
    "tfidf = TfidfVectorizer(stop_words='english')\n",
    "\n",
    "# Replace NaN with an empty string\n",
    "data['GENRE'] = data['GENRE'].fillna('')\n",
    "\n",
    "# Construct the TF-IDF matrix\n",
    "tfidf_matrix = tfidf.fit_transform(data['GENRE'])\n",
    "\n",
    "# Compute the cosine similarity matrix\n",
    "cosine_sim = linear_kernel(tfidf_matrix, tfidf_matrix)\n",
    "\n",
    "# Create a reverse mapping of indices and anime titles\n",
    "indices = pd.Series(data.index, index=data['NAME']).to_dict()\n",
    "\n"
   ]
  },
  {
   "cell_type": "code",
   "execution_count": 46,
   "id": "ff5a3b3f-e6c0-4603-a3e2-b28ed49b93f5",
   "metadata": {},
   "outputs": [],
   "source": [
    "# Function to get recommendations based on cosine similarity\n",
    "def get_recommendations(title, cosine_sim=cosine_sim):\n",
    "    # Get the index of the anime that matches the title\n",
    "    idx = indices[title]\n",
    "\n",
    "    # Get the pairwise similarity scores of all anime with that anime\n",
    "    sim_scores = list(enumerate(cosine_sim[idx]))\n",
    "\n",
    "    # Sort the anime based on the similarity scores\n",
    "    sim_scores = sorted(sim_scores, key=lambda x: x[1], reverse=True)\n",
    "\n",
    "    # Get the scores of the 10 most similar anime\n",
    "    sim_scores = sim_scores[1:11]\n",
    "\n",
    "    # Get the anime indices\n",
    "    anime_indices = [i[0] for i in sim_scores]\n",
    "    \n",
    "    anime_indices = [i for i in anime_indices if i != idx]\n",
    "    \n",
    "    # Return the top 10 most similar anime\n",
    "    return data['NAME'].iloc[anime_indices]\n"
   ]
  },
  {
   "cell_type": "code",
   "execution_count": 49,
   "id": "682819f5-9712-471b-b8ef-168d4154fce0",
   "metadata": {},
   "outputs": [
    {
     "data": {
      "text/plain": [
       "2465                                   Naruto: Shippuuden\n",
       "3403    Boruto: Naruto the Movie - Naruto ga Hokage ni...\n",
       "4943                                          Naruto x UT\n",
       "5072          Naruto: Shippuuden Movie 4 - The Lost Tower\n",
       "5173    Naruto: Shippuuden Movie 3 - Hi no Ishi wo Tsu...\n",
       "6092    Naruto Soyokazeden Movie: Naruto to Mashin to ...\n",
       "9009                 Naruto Shippuuden: Sunny Side Battle\n",
       "8060                              Kyutai Panic Adventure!\n",
       "2634           Naruto: Shippuuden Movie 6 - Road to Ninja\n",
       "Name: NAME, dtype: object"
      ]
     },
     "execution_count": 49,
     "metadata": {},
     "output_type": "execute_result"
    }
   ],
   "source": [
    "get_recommendations('Naruto')"
   ]
  },
  {
   "cell_type": "code",
   "execution_count": 50,
   "id": "e61ae451-2179-487c-b58e-0bcd6d6e46f7",
   "metadata": {},
   "outputs": [],
   "source": [
    "Anime_Filtered.to_csv(\"Anime_Data_Final.csv\",index=False)"
   ]
  }
 ],
 "metadata": {
  "kernelspec": {
   "display_name": "Python 3 (ipykernel)",
   "language": "python",
   "name": "python3"
  },
  "language_info": {
   "codemirror_mode": {
    "name": "ipython",
    "version": 3
   },
   "file_extension": ".py",
   "mimetype": "text/x-python",
   "name": "python",
   "nbconvert_exporter": "python",
   "pygments_lexer": "ipython3",
   "version": "3.10.12"
  }
 },
 "nbformat": 4,
 "nbformat_minor": 5
}
